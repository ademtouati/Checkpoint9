{
 "cells": [
  {
   "cell_type": "code",
   "execution_count": 58,
   "id": "e0264104",
   "metadata": {},
   "outputs": [
    {
     "name": "stdout",
     "output_type": "stream",
     "text": [
      "my first file\n",
      "This file\n",
      "contains three lines\n"
     ]
    }
   ],
   "source": [
    "def entier(f):\n",
    "    f = open(\"test.txt\")\n",
    "    for line in f:\n",
    "        print(line, end = '')\n",
    "entier(f)\n",
    "print(/**-----------------------------------------**\\)\n",
    "def first(n):\n",
    "    f= open(\"test.txt\",\"r\")\n",
    "    for i in range(n):\n",
    "        print(f.readline())\n",
    "    f.close()\n",
    "first(2)\n",
    "print(/**-----------------------------------------**\\)\n",
    "def last(n):\n",
    "    f= open(\"test.txt\",\"r\")\n",
    "    for last in (f.readlines() [-n:]):\n",
    "        print(last,end=\"\")\n",
    "last(1)\n",
    "print(/**-----------------------------------------**\\)\n",
    "def words(a):\n",
    "    now=0\n",
    "    f = open(a,\"r\")\n",
    "    for line in f.readlines():\n",
    "        Words=line.split(\" \")\n",
    "        now+=len(Words)\n",
    "    print(now)\n",
    "words(\"test.txt\")"
   ]
  },
  {
   "cell_type": "code",
   "execution_count": null,
   "id": "5e01a130",
   "metadata": {},
   "outputs": [],
   "source": []
  }
 ],
 "metadata": {
  "kernelspec": {
   "display_name": "Python 3 (ipykernel)",
   "language": "python",
   "name": "python3"
  },
  "language_info": {
   "codemirror_mode": {
    "name": "ipython",
    "version": 3
   },
   "file_extension": ".py",
   "mimetype": "text/x-python",
   "name": "python",
   "nbconvert_exporter": "python",
   "pygments_lexer": "ipython3",
   "version": "3.9.12"
  }
 },
 "nbformat": 4,
 "nbformat_minor": 5
}
